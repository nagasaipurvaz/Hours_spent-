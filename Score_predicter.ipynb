{
 "cells": [
  {
   "cell_type": "markdown",
   "id": "4b26d455",
   "metadata": {},
   "source": [
    "# This the machine learning model for predicting the number of hours student should put get their desired score\n",
    "\n",
    "This model is made for fun \n",
    "The data is from [kaggle Student Study Hours dataset ](https://www.kaggle.com/datasets/himanshunakrani/student-study-hours)! "
   ]
  },
  {
   "cell_type": "code",
   "execution_count": 1,
   "id": "4204cfd1",
   "metadata": {},
   "outputs": [],
   "source": [
    "import pandas as pd\n",
    "import matplotlib.pyplot as plt\n",
    "import numpy as np"
   ]
  },
  {
   "cell_type": "code",
   "execution_count": 2,
   "id": "1eebed3f",
   "metadata": {},
   "outputs": [
    {
     "data": {
      "text/html": [
       "<div>\n",
       "<style scoped>\n",
       "    .dataframe tbody tr th:only-of-type {\n",
       "        vertical-align: middle;\n",
       "    }\n",
       "\n",
       "    .dataframe tbody tr th {\n",
       "        vertical-align: top;\n",
       "    }\n",
       "\n",
       "    .dataframe thead th {\n",
       "        text-align: right;\n",
       "    }\n",
       "</style>\n",
       "<table border=\"1\" class=\"dataframe\">\n",
       "  <thead>\n",
       "    <tr style=\"text-align: right;\">\n",
       "      <th></th>\n",
       "      <th>Hours</th>\n",
       "      <th>Scores</th>\n",
       "    </tr>\n",
       "  </thead>\n",
       "  <tbody>\n",
       "    <tr>\n",
       "      <th>0</th>\n",
       "      <td>2.5</td>\n",
       "      <td>21</td>\n",
       "    </tr>\n",
       "    <tr>\n",
       "      <th>1</th>\n",
       "      <td>5.1</td>\n",
       "      <td>47</td>\n",
       "    </tr>\n",
       "    <tr>\n",
       "      <th>2</th>\n",
       "      <td>3.2</td>\n",
       "      <td>27</td>\n",
       "    </tr>\n",
       "    <tr>\n",
       "      <th>3</th>\n",
       "      <td>8.5</td>\n",
       "      <td>75</td>\n",
       "    </tr>\n",
       "    <tr>\n",
       "      <th>4</th>\n",
       "      <td>3.5</td>\n",
       "      <td>30</td>\n",
       "    </tr>\n",
       "  </tbody>\n",
       "</table>\n",
       "</div>"
      ],
      "text/plain": [
       "   Hours  Scores\n",
       "0    2.5      21\n",
       "1    5.1      47\n",
       "2    3.2      27\n",
       "3    8.5      75\n",
       "4    3.5      30"
      ]
     },
     "execution_count": 2,
     "metadata": {},
     "output_type": "execute_result"
    }
   ],
   "source": [
    "df = pd.read_csv('score.csv')\n",
    "df.head()"
   ]
  },
  {
   "cell_type": "code",
   "execution_count": 3,
   "id": "c7da6352",
   "metadata": {},
   "outputs": [
    {
     "data": {
      "text/plain": [
       "Text(0.5, 1.0, 'Score vs Hours ')"
      ]
     },
     "execution_count": 3,
     "metadata": {},
     "output_type": "execute_result"
    },
    {
     "data": {
      "image/png": "[encoded data removed]",
      "text/plain": [
       "<Figure size 640x480 with 1 Axes>"
      ]
     },
     "metadata": {},
     "output_type": "display_data"
    }
   ],
   "source": [
    "plt.scatter(df.Scores,df.Hours)\n",
    "plt.xlabel('Scores')\n",
    "plt.ylabel('Hours')\n",
    "plt.title('Score vs Hours ')"
   ]
  },
  {
   "cell_type": "code",
   "execution_count": 4,
   "id": "a6fea92a",
   "metadata": {},
   "outputs": [],
   "source": [
    "X = np.array(df['Scores']).reshape(-1, 1)\n",
    "y = np.array(df['Hours']).reshape(-1, 1)"
   ]
  },
  {
   "cell_type": "markdown",
   "id": "912243d2",
   "metadata": {},
   "source": [
    "# splitting the data into test and train"
   ]
  },
  {
   "cell_type": "code",
   "execution_count": 5,
   "id": "71e88e71",
   "metadata": {},
   "outputs": [],
   "source": [
    "from sklearn.model_selection import train_test_split"
   ]
  },
  {
   "cell_type": "code",
   "execution_count": 6,
   "id": "d2ecdcb0",
   "metadata": {},
   "outputs": [],
   "source": [
    "X_train, X_test, y_train, y_test = train_test_split(X, y, test_size = 0.25)"
   ]
  },
  {
   "cell_type": "markdown",
   "id": "cc1db7b9",
   "metadata": {},
   "source": [
    "# getting the linear regression model from the sklearn library"
   ]
  },
  {
   "cell_type": "code",
   "execution_count": 7,
   "id": "7a284555",
   "metadata": {},
   "outputs": [],
   "source": [
    "from sklearn.linear_model import LinearRegression "
   ]
  },
  {
   "cell_type": "code",
   "execution_count": 8,
   "id": "d431a1c7",
   "metadata": {},
   "outputs": [],
   "source": [
    "model = LinearRegression()"
   ]
  },
  {
   "cell_type": "code",
   "execution_count": 9,
   "id": "414222bd",
   "metadata": {},
   "outputs": [
    {
     "data": {
      "text/plain": [
       "LinearRegression()"
      ]
     },
     "execution_count": 9,
     "metadata": {},
     "output_type": "execute_result"
    }
   ],
   "source": [
    "model.fit (X_train, y_train)"
   ]
  },
  {
   "cell_type": "markdown",
   "id": "d8cc3365",
   "metadata": {},
   "source": [
    "# model score for the evaluating the accuracy of the model"
   ]
  },
  {
   "cell_type": "code",
   "execution_count": 10,
   "id": "8508f750",
   "metadata": {},
   "outputs": [
    {
     "data": {
      "text/plain": [
       "0.9417199673263054"
      ]
     },
     "execution_count": 10,
     "metadata": {},
     "output_type": "execute_result"
    }
   ],
   "source": [
    "model.score(X_test,y_test)"
   ]
  },
  {
   "cell_type": "code",
   "execution_count": 11,
   "id": "4f0ae1c5",
   "metadata": {},
   "outputs": [],
   "source": [
    "predi=model.predict(X_test)"
   ]
  },
  {
   "cell_type": "code",
   "execution_count": 17,
   "id": "6345d6a1",
   "metadata": {
    "scrolled": true
   },
   "outputs": [
    {
     "data": {
      "text/plain": [
       "Text(0.5, 1.0, 'Score vs Hours and regression plot ')"
      ]
     },
     "execution_count": 17,
     "metadata": {},
     "output_type": "execute_result"
    },
    {
     "data": {
      "image/png": "[encoded data removed]",
      "text/plain": [
       "<Figure size 640x480 with 1 Axes>"
      ]
     },
     "metadata": {},
     "output_type": "display_data"
    }
   ],
   "source": [
    "\n",
    "plt.scatter(X_test,y_test,color='b')\n",
    "plt.plot(X_test,predi,color='k')\n",
    "plt.xlabel('Scores')\n",
    "plt.ylabel('Hours')\n",
    "plt.title('Score vs Hours and regression plot ')"
   ]
  },
  {
   "cell_type": "markdown",
   "id": "7285d42e",
   "metadata": {},
   "source": [
    "# Predicted the number of hours they have to study to get score they need "
   ]
  },
  {
   "cell_type": "code",
   "execution_count": 13,
   "id": "e0d3af00",
   "metadata": {},
   "outputs": [
    {
     "data": {
      "text/plain": [
       "array([[10.05158497]])"
      ]
     },
     "execution_count": 13,
     "metadata": {},
     "output_type": "execute_result"
    }
   ],
   "source": [
    "model.predict([[100]])"
   ]
  },
  {
   "cell_type": "code",
   "execution_count": 14,
   "id": "c74ca3b3",
   "metadata": {},
   "outputs": [],
   "source": [
    "import pickle"
   ]
  },
  {
   "cell_type": "code",
   "execution_count": 15,
   "id": "cce0e815",
   "metadata": {},
   "outputs": [],
   "source": [
    "with open('model_pickle' ,'wb' ) as f :\n",
    "    pickle.dump(model,f)"
   ]
  },
  {
   "cell_type": "code",
   "execution_count": null,
   "id": "e82936f1",
   "metadata": {},
   "outputs": [],
   "source": []
  }
 ],
 "metadata": {
  "kernelspec": {
   "display_name": "Python 3 (ipykernel)",
   "language": "python",
   "name": "python3"
  },
  "language_info": {
   "codemirror_mode": {
    "name": "ipython",
    "version": 3
   },
   "file_extension": ".py",
   "mimetype": "text/x-python",
   "name": "python",
   "nbconvert_exporter": "python",
   "pygments_lexer": "ipython3",
   "version": "3.9.13"
  }
 },
 "nbformat": 4,
 "nbformat_minor": 5
}
